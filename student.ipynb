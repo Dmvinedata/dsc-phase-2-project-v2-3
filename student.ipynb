{
 "cells": [
  {
   "cell_type": "markdown",
   "metadata": {},
   "source": [
    "## Final Project Submission\n",
    "\n",
    "Please fill out:\n",
    "* Student name: \n",
    "* Student pace: self paced / part time / full time\n",
    "* Scheduled project review date/time: \n",
    "* Instructor name: \n",
    "* Blog post URL:\n"
   ]
  },
  {
   "cell_type": "markdown",
   "metadata": {},
   "source": [
    "# Business Understanding"
   ]
  },
  {
   "cell_type": "markdown",
   "metadata": {},
   "source": [
    "# Data Understanding"
   ]
  },
  {
   "cell_type": "code",
   "execution_count": null,
   "metadata": {},
   "outputs": [],
   "source": [
    "#Add a part where there is a description for the data used\n",
    "#The waterfront to fill or delte moves to data prep\n",
    "#Use a correlation matrix to understand the data more\n",
    "#Fill out the questions of Data Understanding in the markdown section\n",
    "#Descriptive statistis for each of the features used\n",
    "#check shape is correct\n",
    "#Add a new column for missing Waterfront prop? No, if we included view maybe"
   ]
  },
  {
   "cell_type": "code",
   "execution_count": 129,
   "metadata": {
    "scrolled": true
   },
   "outputs": [],
   "source": [
    "import pandas as pd\n",
    "import numpy as np\n",
    "import matplotlib.pyplot as plt\n",
    "\n",
    "pd.set_option('display.max_rows', 500)"
   ]
  },
  {
   "cell_type": "code",
   "execution_count": 130,
   "metadata": {},
   "outputs": [
    {
     "data": {
      "text/html": [
       "<div>\n",
       "<style scoped>\n",
       "    .dataframe tbody tr th:only-of-type {\n",
       "        vertical-align: middle;\n",
       "    }\n",
       "\n",
       "    .dataframe tbody tr th {\n",
       "        vertical-align: top;\n",
       "    }\n",
       "\n",
       "    .dataframe thead th {\n",
       "        text-align: right;\n",
       "    }\n",
       "</style>\n",
       "<table border=\"1\" class=\"dataframe\">\n",
       "  <thead>\n",
       "    <tr style=\"text-align: right;\">\n",
       "      <th></th>\n",
       "      <th>date</th>\n",
       "      <th>price</th>\n",
       "      <th>bedrooms</th>\n",
       "      <th>bathrooms</th>\n",
       "      <th>sqft_living</th>\n",
       "      <th>sqft_lot</th>\n",
       "      <th>floors</th>\n",
       "      <th>waterfront</th>\n",
       "      <th>view</th>\n",
       "      <th>condition</th>\n",
       "      <th>grade</th>\n",
       "      <th>sqft_above</th>\n",
       "      <th>sqft_basement</th>\n",
       "      <th>yr_built</th>\n",
       "      <th>yr_renovated</th>\n",
       "      <th>zipcode</th>\n",
       "      <th>lat</th>\n",
       "      <th>long</th>\n",
       "      <th>sqft_living15</th>\n",
       "      <th>sqft_lot15</th>\n",
       "    </tr>\n",
       "    <tr>\n",
       "      <th>id</th>\n",
       "      <th></th>\n",
       "      <th></th>\n",
       "      <th></th>\n",
       "      <th></th>\n",
       "      <th></th>\n",
       "      <th></th>\n",
       "      <th></th>\n",
       "      <th></th>\n",
       "      <th></th>\n",
       "      <th></th>\n",
       "      <th></th>\n",
       "      <th></th>\n",
       "      <th></th>\n",
       "      <th></th>\n",
       "      <th></th>\n",
       "      <th></th>\n",
       "      <th></th>\n",
       "      <th></th>\n",
       "      <th></th>\n",
       "      <th></th>\n",
       "    </tr>\n",
       "  </thead>\n",
       "  <tbody>\n",
       "    <tr>\n",
       "      <th>7129300520</th>\n",
       "      <td>10/13/2014</td>\n",
       "      <td>221900.0</td>\n",
       "      <td>3</td>\n",
       "      <td>1.00</td>\n",
       "      <td>1180</td>\n",
       "      <td>5650</td>\n",
       "      <td>1.0</td>\n",
       "      <td>NaN</td>\n",
       "      <td>NONE</td>\n",
       "      <td>Average</td>\n",
       "      <td>7 Average</td>\n",
       "      <td>1180</td>\n",
       "      <td>0.0</td>\n",
       "      <td>1955</td>\n",
       "      <td>0.0</td>\n",
       "      <td>98178</td>\n",
       "      <td>47.5112</td>\n",
       "      <td>-122.257</td>\n",
       "      <td>1340</td>\n",
       "      <td>5650</td>\n",
       "    </tr>\n",
       "    <tr>\n",
       "      <th>6414100192</th>\n",
       "      <td>12/9/2014</td>\n",
       "      <td>538000.0</td>\n",
       "      <td>3</td>\n",
       "      <td>2.25</td>\n",
       "      <td>2570</td>\n",
       "      <td>7242</td>\n",
       "      <td>2.0</td>\n",
       "      <td>NO</td>\n",
       "      <td>NONE</td>\n",
       "      <td>Average</td>\n",
       "      <td>7 Average</td>\n",
       "      <td>2170</td>\n",
       "      <td>400.0</td>\n",
       "      <td>1951</td>\n",
       "      <td>1991.0</td>\n",
       "      <td>98125</td>\n",
       "      <td>47.7210</td>\n",
       "      <td>-122.319</td>\n",
       "      <td>1690</td>\n",
       "      <td>7639</td>\n",
       "    </tr>\n",
       "    <tr>\n",
       "      <th>5631500400</th>\n",
       "      <td>2/25/2015</td>\n",
       "      <td>180000.0</td>\n",
       "      <td>2</td>\n",
       "      <td>1.00</td>\n",
       "      <td>770</td>\n",
       "      <td>10000</td>\n",
       "      <td>1.0</td>\n",
       "      <td>NO</td>\n",
       "      <td>NONE</td>\n",
       "      <td>Average</td>\n",
       "      <td>6 Low Average</td>\n",
       "      <td>770</td>\n",
       "      <td>0.0</td>\n",
       "      <td>1933</td>\n",
       "      <td>NaN</td>\n",
       "      <td>98028</td>\n",
       "      <td>47.7379</td>\n",
       "      <td>-122.233</td>\n",
       "      <td>2720</td>\n",
       "      <td>8062</td>\n",
       "    </tr>\n",
       "    <tr>\n",
       "      <th>2487200875</th>\n",
       "      <td>12/9/2014</td>\n",
       "      <td>604000.0</td>\n",
       "      <td>4</td>\n",
       "      <td>3.00</td>\n",
       "      <td>1960</td>\n",
       "      <td>5000</td>\n",
       "      <td>1.0</td>\n",
       "      <td>NO</td>\n",
       "      <td>NONE</td>\n",
       "      <td>Very Good</td>\n",
       "      <td>7 Average</td>\n",
       "      <td>1050</td>\n",
       "      <td>910.0</td>\n",
       "      <td>1965</td>\n",
       "      <td>0.0</td>\n",
       "      <td>98136</td>\n",
       "      <td>47.5208</td>\n",
       "      <td>-122.393</td>\n",
       "      <td>1360</td>\n",
       "      <td>5000</td>\n",
       "    </tr>\n",
       "    <tr>\n",
       "      <th>1954400510</th>\n",
       "      <td>2/18/2015</td>\n",
       "      <td>510000.0</td>\n",
       "      <td>3</td>\n",
       "      <td>2.00</td>\n",
       "      <td>1680</td>\n",
       "      <td>8080</td>\n",
       "      <td>1.0</td>\n",
       "      <td>NO</td>\n",
       "      <td>NONE</td>\n",
       "      <td>Average</td>\n",
       "      <td>8 Good</td>\n",
       "      <td>1680</td>\n",
       "      <td>0.0</td>\n",
       "      <td>1987</td>\n",
       "      <td>0.0</td>\n",
       "      <td>98074</td>\n",
       "      <td>47.6168</td>\n",
       "      <td>-122.045</td>\n",
       "      <td>1800</td>\n",
       "      <td>7503</td>\n",
       "    </tr>\n",
       "  </tbody>\n",
       "</table>\n",
       "</div>"
      ],
      "text/plain": [
       "                  date     price  bedrooms  bathrooms  sqft_living  sqft_lot  \\\n",
       "id                                                                             \n",
       "7129300520  10/13/2014  221900.0         3       1.00         1180      5650   \n",
       "6414100192   12/9/2014  538000.0         3       2.25         2570      7242   \n",
       "5631500400   2/25/2015  180000.0         2       1.00          770     10000   \n",
       "2487200875   12/9/2014  604000.0         4       3.00         1960      5000   \n",
       "1954400510   2/18/2015  510000.0         3       2.00         1680      8080   \n",
       "\n",
       "            floors waterfront  view  condition          grade  sqft_above  \\\n",
       "id                                                                          \n",
       "7129300520     1.0        NaN  NONE    Average      7 Average        1180   \n",
       "6414100192     2.0         NO  NONE    Average      7 Average        2170   \n",
       "5631500400     1.0         NO  NONE    Average  6 Low Average         770   \n",
       "2487200875     1.0         NO  NONE  Very Good      7 Average        1050   \n",
       "1954400510     1.0         NO  NONE    Average         8 Good        1680   \n",
       "\n",
       "           sqft_basement  yr_built  yr_renovated  zipcode      lat     long  \\\n",
       "id                                                                            \n",
       "7129300520           0.0      1955           0.0    98178  47.5112 -122.257   \n",
       "6414100192         400.0      1951        1991.0    98125  47.7210 -122.319   \n",
       "5631500400           0.0      1933           NaN    98028  47.7379 -122.233   \n",
       "2487200875         910.0      1965           0.0    98136  47.5208 -122.393   \n",
       "1954400510           0.0      1987           0.0    98074  47.6168 -122.045   \n",
       "\n",
       "            sqft_living15  sqft_lot15  \n",
       "id                                     \n",
       "7129300520           1340        5650  \n",
       "6414100192           1690        7639  \n",
       "5631500400           2720        8062  \n",
       "2487200875           1360        5000  \n",
       "1954400510           1800        7503  "
      ]
     },
     "execution_count": 130,
     "metadata": {},
     "output_type": "execute_result"
    }
   ],
   "source": [
    "#Import of data to explore\n",
    "df = pd.read_csv('data/kc_house_data.csv', index_col=0)\n",
    "df.head()"
   ]
  },
  {
   "cell_type": "markdown",
   "metadata": {},
   "source": [
    "Most descriptive attributes for quality of homes"
   ]
  },
  {
   "cell_type": "code",
   "execution_count": null,
   "metadata": {
    "scrolled": true
   },
   "outputs": [],
   "source": [
    "\"\"\"\n",
    "Categorical texts: Waterfront, conditon, Grade\n",
    "Waterfront - Boolean\n",
    "Condition: \n",
    "Grade:\n",
    "\"\"\"\n"
   ]
  },
  {
   "cell_type": "code",
   "execution_count": 129,
   "metadata": {
    "collapsed": true
   },
   "outputs": [
    {
     "name": "stdout",
     "output_type": "stream",
     "text": [
      "<class 'pandas.core.frame.DataFrame'>\n",
      "Int64Index: 21597 entries, 7129300520 to 1523300157\n",
      "Data columns (total 20 columns):\n",
      " #   Column         Non-Null Count  Dtype  \n",
      "---  ------         --------------  -----  \n",
      " 0   date           21597 non-null  object \n",
      " 1   price          21597 non-null  float64\n",
      " 2   bedrooms       21597 non-null  int64  \n",
      " 3   bathrooms      21597 non-null  float64\n",
      " 4   sqft_living    21597 non-null  int64  \n",
      " 5   sqft_lot       21597 non-null  int64  \n",
      " 6   floors         21597 non-null  float64\n",
      " 7   waterfront     19221 non-null  object \n",
      " 8   view           21534 non-null  object \n",
      " 9   condition      21597 non-null  object \n",
      " 10  grade          21597 non-null  object \n",
      " 11  sqft_above     21597 non-null  int64  \n",
      " 12  sqft_basement  21597 non-null  object \n",
      " 13  yr_built       21597 non-null  int64  \n",
      " 14  yr_renovated   17755 non-null  float64\n",
      " 15  zipcode        21597 non-null  int64  \n",
      " 16  lat            21597 non-null  float64\n",
      " 17  long           21597 non-null  float64\n",
      " 18  sqft_living15  21597 non-null  int64  \n",
      " 19  sqft_lot15     21597 non-null  int64  \n",
      "dtypes: float64(6), int64(8), object(6)\n",
      "memory usage: 3.5+ MB\n"
     ]
    }
   ],
   "source": [
    "df.info()"
   ]
  },
  {
   "cell_type": "code",
   "execution_count": 131,
   "metadata": {
    "scrolled": true
   },
   "outputs": [
    {
     "data": {
      "text/html": [
       "<div>\n",
       "<style scoped>\n",
       "    .dataframe tbody tr th:only-of-type {\n",
       "        vertical-align: middle;\n",
       "    }\n",
       "\n",
       "    .dataframe tbody tr th {\n",
       "        vertical-align: top;\n",
       "    }\n",
       "\n",
       "    .dataframe thead th {\n",
       "        text-align: right;\n",
       "    }\n",
       "</style>\n",
       "<table border=\"1\" class=\"dataframe\">\n",
       "  <thead>\n",
       "    <tr style=\"text-align: right;\">\n",
       "      <th></th>\n",
       "      <th>price</th>\n",
       "      <th>bedrooms</th>\n",
       "      <th>bathrooms</th>\n",
       "      <th>sqft_living</th>\n",
       "      <th>sqft_lot</th>\n",
       "      <th>floors</th>\n",
       "      <th>waterfront</th>\n",
       "      <th>condition</th>\n",
       "      <th>grade</th>\n",
       "      <th>yr_built</th>\n",
       "      <th>zipcode</th>\n",
       "    </tr>\n",
       "    <tr>\n",
       "      <th>id</th>\n",
       "      <th></th>\n",
       "      <th></th>\n",
       "      <th></th>\n",
       "      <th></th>\n",
       "      <th></th>\n",
       "      <th></th>\n",
       "      <th></th>\n",
       "      <th></th>\n",
       "      <th></th>\n",
       "      <th></th>\n",
       "      <th></th>\n",
       "    </tr>\n",
       "  </thead>\n",
       "  <tbody>\n",
       "    <tr>\n",
       "      <th>7129300520</th>\n",
       "      <td>221900.0</td>\n",
       "      <td>3</td>\n",
       "      <td>1.00</td>\n",
       "      <td>1180</td>\n",
       "      <td>5650</td>\n",
       "      <td>1.0</td>\n",
       "      <td>NaN</td>\n",
       "      <td>Average</td>\n",
       "      <td>7 Average</td>\n",
       "      <td>1955</td>\n",
       "      <td>98178</td>\n",
       "    </tr>\n",
       "    <tr>\n",
       "      <th>6414100192</th>\n",
       "      <td>538000.0</td>\n",
       "      <td>3</td>\n",
       "      <td>2.25</td>\n",
       "      <td>2570</td>\n",
       "      <td>7242</td>\n",
       "      <td>2.0</td>\n",
       "      <td>NO</td>\n",
       "      <td>Average</td>\n",
       "      <td>7 Average</td>\n",
       "      <td>1951</td>\n",
       "      <td>98125</td>\n",
       "    </tr>\n",
       "    <tr>\n",
       "      <th>5631500400</th>\n",
       "      <td>180000.0</td>\n",
       "      <td>2</td>\n",
       "      <td>1.00</td>\n",
       "      <td>770</td>\n",
       "      <td>10000</td>\n",
       "      <td>1.0</td>\n",
       "      <td>NO</td>\n",
       "      <td>Average</td>\n",
       "      <td>6 Low Average</td>\n",
       "      <td>1933</td>\n",
       "      <td>98028</td>\n",
       "    </tr>\n",
       "    <tr>\n",
       "      <th>2487200875</th>\n",
       "      <td>604000.0</td>\n",
       "      <td>4</td>\n",
       "      <td>3.00</td>\n",
       "      <td>1960</td>\n",
       "      <td>5000</td>\n",
       "      <td>1.0</td>\n",
       "      <td>NO</td>\n",
       "      <td>Very Good</td>\n",
       "      <td>7 Average</td>\n",
       "      <td>1965</td>\n",
       "      <td>98136</td>\n",
       "    </tr>\n",
       "    <tr>\n",
       "      <th>1954400510</th>\n",
       "      <td>510000.0</td>\n",
       "      <td>3</td>\n",
       "      <td>2.00</td>\n",
       "      <td>1680</td>\n",
       "      <td>8080</td>\n",
       "      <td>1.0</td>\n",
       "      <td>NO</td>\n",
       "      <td>Average</td>\n",
       "      <td>8 Good</td>\n",
       "      <td>1987</td>\n",
       "      <td>98074</td>\n",
       "    </tr>\n",
       "  </tbody>\n",
       "</table>\n",
       "</div>"
      ],
      "text/plain": [
       "               price  bedrooms  bathrooms  sqft_living  sqft_lot  floors  \\\n",
       "id                                                                         \n",
       "7129300520  221900.0         3       1.00         1180      5650     1.0   \n",
       "6414100192  538000.0         3       2.25         2570      7242     2.0   \n",
       "5631500400  180000.0         2       1.00          770     10000     1.0   \n",
       "2487200875  604000.0         4       3.00         1960      5000     1.0   \n",
       "1954400510  510000.0         3       2.00         1680      8080     1.0   \n",
       "\n",
       "           waterfront  condition          grade  yr_built  zipcode  \n",
       "id                                                                  \n",
       "7129300520        NaN    Average      7 Average      1955    98178  \n",
       "6414100192         NO    Average      7 Average      1951    98125  \n",
       "5631500400         NO    Average  6 Low Average      1933    98028  \n",
       "2487200875         NO  Very Good      7 Average      1965    98136  \n",
       "1954400510         NO    Average         8 Good      1987    98074  "
      ]
     },
     "execution_count": 131,
     "metadata": {},
     "output_type": "execute_result"
    }
   ],
   "source": [
    "#Ignore these column at a minimum level Write assumption from the beginning data\n",
    "\"\"\" Ignore data, view, sqft_above, sqft_basement, yr_renovated, zipcode,lat ,long ,sqft_living15, sqft_lot15\"\"\"\n",
    "\n",
    "# New \n",
    "kc_df = df.drop([\"date\",\"view\", \"sqft_above\", \"sqft_basement\", \"yr_renovated\",\"lat\" ,\"long\" ,\"sqft_living15\", \"sqft_lot15\"], axis = 1)\n",
    "kc_df.head()"
   ]
  },
  {
   "cell_type": "code",
   "execution_count": 130,
   "metadata": {
    "collapsed": true
   },
   "outputs": [
    {
     "name": "stdout",
     "output_type": "stream",
     "text": [
      "<class 'pandas.core.frame.DataFrame'>\n",
      "Int64Index: 21597 entries, 7129300520 to 1523300157\n",
      "Data columns (total 11 columns):\n",
      " #   Column       Non-Null Count  Dtype  \n",
      "---  ------       --------------  -----  \n",
      " 0   price        21597 non-null  float64\n",
      " 1   bedrooms     21597 non-null  int64  \n",
      " 2   bathrooms    21597 non-null  float64\n",
      " 3   sqft_living  21597 non-null  int64  \n",
      " 4   sqft_lot     21597 non-null  int64  \n",
      " 5   floors       21597 non-null  float64\n",
      " 6   waterfront   19221 non-null  object \n",
      " 7   condition    21597 non-null  object \n",
      " 8   grade        21597 non-null  object \n",
      " 9   yr_built     21597 non-null  int64  \n",
      " 10  zipcode      21597 non-null  int64  \n",
      "dtypes: float64(3), int64(5), object(3)\n",
      "memory usage: 2.0+ MB\n"
     ]
    }
   ],
   "source": [
    "kc_df.info()"
   ]
  },
  {
   "cell_type": "code",
   "execution_count": 38,
   "metadata": {
    "collapsed": true,
    "scrolled": true
   },
   "outputs": [
    {
     "data": {
      "text/html": [
       "<div>\n",
       "<style scoped>\n",
       "    .dataframe tbody tr th:only-of-type {\n",
       "        vertical-align: middle;\n",
       "    }\n",
       "\n",
       "    .dataframe tbody tr th {\n",
       "        vertical-align: top;\n",
       "    }\n",
       "\n",
       "    .dataframe thead th {\n",
       "        text-align: right;\n",
       "    }\n",
       "</style>\n",
       "<table border=\"1\" class=\"dataframe\">\n",
       "  <thead>\n",
       "    <tr style=\"text-align: right;\">\n",
       "      <th></th>\n",
       "      <th>price</th>\n",
       "      <th>bedrooms</th>\n",
       "      <th>bathrooms</th>\n",
       "      <th>sqft_living</th>\n",
       "      <th>sqft_lot</th>\n",
       "      <th>floors</th>\n",
       "      <th>yr_built</th>\n",
       "      <th>zipcode</th>\n",
       "    </tr>\n",
       "  </thead>\n",
       "  <tbody>\n",
       "    <tr>\n",
       "      <th>count</th>\n",
       "      <td>2.159700e+04</td>\n",
       "      <td>21597.000000</td>\n",
       "      <td>21597.000000</td>\n",
       "      <td>21597.000000</td>\n",
       "      <td>2.159700e+04</td>\n",
       "      <td>21597.000000</td>\n",
       "      <td>21597.000000</td>\n",
       "      <td>21597.000000</td>\n",
       "    </tr>\n",
       "    <tr>\n",
       "      <th>mean</th>\n",
       "      <td>5.402966e+05</td>\n",
       "      <td>3.373200</td>\n",
       "      <td>2.115826</td>\n",
       "      <td>2080.321850</td>\n",
       "      <td>1.509941e+04</td>\n",
       "      <td>1.494096</td>\n",
       "      <td>1970.999676</td>\n",
       "      <td>98077.951845</td>\n",
       "    </tr>\n",
       "    <tr>\n",
       "      <th>std</th>\n",
       "      <td>3.673681e+05</td>\n",
       "      <td>0.926299</td>\n",
       "      <td>0.768984</td>\n",
       "      <td>918.106125</td>\n",
       "      <td>4.141264e+04</td>\n",
       "      <td>0.539683</td>\n",
       "      <td>29.375234</td>\n",
       "      <td>53.513072</td>\n",
       "    </tr>\n",
       "    <tr>\n",
       "      <th>min</th>\n",
       "      <td>7.800000e+04</td>\n",
       "      <td>1.000000</td>\n",
       "      <td>0.500000</td>\n",
       "      <td>370.000000</td>\n",
       "      <td>5.200000e+02</td>\n",
       "      <td>1.000000</td>\n",
       "      <td>1900.000000</td>\n",
       "      <td>98001.000000</td>\n",
       "    </tr>\n",
       "    <tr>\n",
       "      <th>25%</th>\n",
       "      <td>3.220000e+05</td>\n",
       "      <td>3.000000</td>\n",
       "      <td>1.750000</td>\n",
       "      <td>1430.000000</td>\n",
       "      <td>5.040000e+03</td>\n",
       "      <td>1.000000</td>\n",
       "      <td>1951.000000</td>\n",
       "      <td>98033.000000</td>\n",
       "    </tr>\n",
       "    <tr>\n",
       "      <th>50%</th>\n",
       "      <td>4.500000e+05</td>\n",
       "      <td>3.000000</td>\n",
       "      <td>2.250000</td>\n",
       "      <td>1910.000000</td>\n",
       "      <td>7.618000e+03</td>\n",
       "      <td>1.500000</td>\n",
       "      <td>1975.000000</td>\n",
       "      <td>98065.000000</td>\n",
       "    </tr>\n",
       "    <tr>\n",
       "      <th>75%</th>\n",
       "      <td>6.450000e+05</td>\n",
       "      <td>4.000000</td>\n",
       "      <td>2.500000</td>\n",
       "      <td>2550.000000</td>\n",
       "      <td>1.068500e+04</td>\n",
       "      <td>2.000000</td>\n",
       "      <td>1997.000000</td>\n",
       "      <td>98118.000000</td>\n",
       "    </tr>\n",
       "    <tr>\n",
       "      <th>max</th>\n",
       "      <td>7.700000e+06</td>\n",
       "      <td>33.000000</td>\n",
       "      <td>8.000000</td>\n",
       "      <td>13540.000000</td>\n",
       "      <td>1.651359e+06</td>\n",
       "      <td>3.500000</td>\n",
       "      <td>2015.000000</td>\n",
       "      <td>98199.000000</td>\n",
       "    </tr>\n",
       "  </tbody>\n",
       "</table>\n",
       "</div>"
      ],
      "text/plain": [
       "              price      bedrooms     bathrooms   sqft_living      sqft_lot  \\\n",
       "count  2.159700e+04  21597.000000  21597.000000  21597.000000  2.159700e+04   \n",
       "mean   5.402966e+05      3.373200      2.115826   2080.321850  1.509941e+04   \n",
       "std    3.673681e+05      0.926299      0.768984    918.106125  4.141264e+04   \n",
       "min    7.800000e+04      1.000000      0.500000    370.000000  5.200000e+02   \n",
       "25%    3.220000e+05      3.000000      1.750000   1430.000000  5.040000e+03   \n",
       "50%    4.500000e+05      3.000000      2.250000   1910.000000  7.618000e+03   \n",
       "75%    6.450000e+05      4.000000      2.500000   2550.000000  1.068500e+04   \n",
       "max    7.700000e+06     33.000000      8.000000  13540.000000  1.651359e+06   \n",
       "\n",
       "             floors      yr_built       zipcode  \n",
       "count  21597.000000  21597.000000  21597.000000  \n",
       "mean       1.494096   1970.999676  98077.951845  \n",
       "std        0.539683     29.375234     53.513072  \n",
       "min        1.000000   1900.000000  98001.000000  \n",
       "25%        1.000000   1951.000000  98033.000000  \n",
       "50%        1.500000   1975.000000  98065.000000  \n",
       "75%        2.000000   1997.000000  98118.000000  \n",
       "max        3.500000   2015.000000  98199.000000  "
      ]
     },
     "execution_count": 38,
     "metadata": {},
     "output_type": "execute_result"
    }
   ],
   "source": [
    "kc_df.describe()"
   ]
  },
  {
   "cell_type": "code",
   "execution_count": 43,
   "metadata": {
    "scrolled": true
   },
   "outputs": [
    {
     "data": {
      "text/plain": [
       "condition\n",
       "Average      14020\n",
       "Good          5677\n",
       "Very Good     1701\n",
       "Fair           170\n",
       "Poor            29\n",
       "dtype: int64"
      ]
     },
     "execution_count": 43,
     "metadata": {},
     "output_type": "execute_result"
    }
   ],
   "source": [
    "kc_df[[\"condition\"]].value_counts()"
   ]
  },
  {
   "cell_type": "code",
   "execution_count": 44,
   "metadata": {
    "scrolled": true
   },
   "outputs": [
    {
     "data": {
      "text/plain": [
       "grade        \n",
       "7 Average        8974\n",
       "8 Good           6065\n",
       "9 Better         2615\n",
       "6 Low Average    2038\n",
       "10 Very Good     1134\n",
       "11 Excellent      399\n",
       "5 Fair            242\n",
       "12 Luxury          89\n",
       "4 Low              27\n",
       "13 Mansion         13\n",
       "3 Poor              1\n",
       "dtype: int64"
      ]
     },
     "execution_count": 44,
     "metadata": {},
     "output_type": "execute_result"
    }
   ],
   "source": [
    "kc_df[[\"grade\"]].value_counts()"
   ]
  },
  {
   "cell_type": "code",
   "execution_count": 145,
   "metadata": {
    "scrolled": true
   },
   "outputs": [
    {
     "data": {
      "text/plain": [
       "7 Average        1000\n",
       "8 Good            656\n",
       "9 Better          295\n",
       "6 Low Average     228\n",
       "10 Very Good      116\n",
       "11 Excellent       42\n",
       "5 Fair             30\n",
       "12 Luxury           7\n",
       "4 Low               2\n",
       "Name: grade, dtype: int64"
      ]
     },
     "execution_count": 145,
     "metadata": {},
     "output_type": "execute_result"
    }
   ],
   "source": [
    "kc_df[kc_df[\"waterfront\"].isna()][\"grade\"].value_counts()"
   ]
  },
  {
   "cell_type": "markdown",
   "metadata": {},
   "source": [
    "# Use Zipcode to understand\n"
   ]
  },
  {
   "cell_type": "code",
   "execution_count": 115,
   "metadata": {
    "scrolled": true
   },
   "outputs": [],
   "source": [
    "#Zipcode group by to create focus of data set to predict with in the future\n",
    "zip_df = kc_df.groupby([\"grade\", \"zipcode\"], sort = True).count()\n",
    "a = zip_df.sort_values(\"grade\", ascending = True)\n",
    "a"
   ]
  },
  {
   "cell_type": "code",
   "execution_count": 132,
   "metadata": {},
   "outputs": [
    {
     "data": {
      "text/plain": [
       "0"
      ]
     },
     "execution_count": 132,
     "metadata": {},
     "output_type": "execute_result"
    }
   ],
   "source": [
    "#Remove the duplicate rows\n",
    "kc_df = kc_df.drop_duplicates()\n",
    "kc_df.duplicated().sum()"
   ]
  },
  {
   "cell_type": "markdown",
   "metadata": {},
   "source": [
    "Usually it is better to fill in \"NaN\" after train and test split to prevent data leakage.  \n",
    "Because filling in unknown as no effect on the other values decided to do it before."
   ]
  },
  {
   "cell_type": "code",
   "execution_count": 218,
   "metadata": {},
   "outputs": [
    {
     "data": {
      "text/plain": [
       "waterfront    0\n",
       "dtype: int64"
      ]
     },
     "execution_count": 218,
     "metadata": {},
     "output_type": "execute_result"
    }
   ],
   "source": [
    "#Fill in unknowns, this is best done after split, to limit data leakage.  I\n",
    "kc_df[\"waterfront\"].fillna(\"Unk\", inplace = True)\n",
    "\n",
    "#Check NaN Count\n",
    "kc_df[[\"waterfront\"]].value_counts()\n",
    "kc_df[[\"waterfront\"]].isna().sum()"
   ]
  },
  {
   "cell_type": "markdown",
   "metadata": {},
   "source": [
    "# Graphs and Correlation"
   ]
  },
  {
   "cell_type": "code",
   "execution_count": null,
   "metadata": {},
   "outputs": [],
   "source": [
    "#Data graphs of values categories and continous"
   ]
  },
  {
   "cell_type": "code",
   "execution_count": null,
   "metadata": {},
   "outputs": [],
   "source": [
    "#Change the variables of the categories Waterfront, Condition and Grade\n",
    "# https://github.com/learn-co-curriculum/dsc-sklearn-preprocessing-lab Multiple categorie \n",
    "#Inspect the value count of each of these\n",
    "#When do we split the data into train and polynomial transformation?\n",
    "#plot data for linearity,scatter, histogram values for normal dist\n",
    "#study of correlation, heatmap before split"
   ]
  },
  {
   "cell_type": "markdown",
   "metadata": {},
   "source": [
    "# Basic Model\n"
   ]
  },
  {
   "cell_type": "code",
   "execution_count": 219,
   "metadata": {},
   "outputs": [],
   "source": [
    "#split data\n",
    "#Correlation of numerical values\n",
    "\n",
    "from sklearn.model_selection import train_test_split\n",
    "\n",
    "X = kc_df.drop(\"price\", axis=1)\n",
    "y = kc_df[\"price\"]\n",
    "\n",
    "X_train , X_test, y_train, y_test = train_test_split(X,y, test_size=.30,random_state=42)"
   ]
  },
  {
   "cell_type": "markdown",
   "metadata": {},
   "source": [
    "Visualization of target variable"
   ]
  },
  {
   "cell_type": "code",
   "execution_count": 114,
   "metadata": {},
   "outputs": [
    {
     "data": {
      "image/png": "[encoded data removed]",
      "text/plain": [
       "<Figure size 720x360 with 1 Axes>"
      ]
     },
     "metadata": {
      "needs_background": "light"
     },
     "output_type": "display_data"
    }
   ],
   "source": [
    "fig, ax = plt.subplots(figsize=(10, 5))\n",
    "\n",
    "ax.hist(y_train, bins=50)\n",
    "\n",
    "ax.set_xlabel(\"Estimated Home Value\")\n",
    "ax.set_ylabel(\"Count of Homes\")\n",
    "ax.set_title(\"Distribution Prices\");"
   ]
  },
  {
   "cell_type": "code",
   "execution_count": 30,
   "metadata": {
    "collapsed": true
   },
   "outputs": [
    {
     "ename": "KeyError",
     "evalue": "'x'",
     "output_type": "error",
     "traceback": [
      "\u001b[0;31m---------------------------------------------------------------------------\u001b[0m",
      "\u001b[0;31mKeyError\u001b[0m                                  Traceback (most recent call last)",
      "\u001b[0;32m~/opt/anaconda3/envs/learn-env/lib/python3.8/site-packages/pandas/core/indexes/base.py\u001b[0m in \u001b[0;36mget_loc\u001b[0;34m(self, key, method, tolerance)\u001b[0m\n\u001b[1;32m   2894\u001b[0m             \u001b[0;32mtry\u001b[0m\u001b[0;34m:\u001b[0m\u001b[0;34m\u001b[0m\u001b[0;34m\u001b[0m\u001b[0m\n\u001b[0;32m-> 2895\u001b[0;31m                 \u001b[0;32mreturn\u001b[0m \u001b[0mself\u001b[0m\u001b[0;34m.\u001b[0m\u001b[0m_engine\u001b[0m\u001b[0;34m.\u001b[0m\u001b[0mget_loc\u001b[0m\u001b[0;34m(\u001b[0m\u001b[0mcasted_key\u001b[0m\u001b[0;34m)\u001b[0m\u001b[0;34m\u001b[0m\u001b[0;34m\u001b[0m\u001b[0m\n\u001b[0m\u001b[1;32m   2896\u001b[0m             \u001b[0;32mexcept\u001b[0m \u001b[0mKeyError\u001b[0m \u001b[0;32mas\u001b[0m \u001b[0merr\u001b[0m\u001b[0;34m:\u001b[0m\u001b[0;34m\u001b[0m\u001b[0;34m\u001b[0m\u001b[0m\n",
      "\u001b[0;32mpandas/_libs/index.pyx\u001b[0m in \u001b[0;36mpandas._libs.index.IndexEngine.get_loc\u001b[0;34m()\u001b[0m\n",
      "\u001b[0;32mpandas/_libs/index.pyx\u001b[0m in \u001b[0;36mpandas._libs.index.IndexEngine.get_loc\u001b[0;34m()\u001b[0m\n",
      "\u001b[0;32mpandas/_libs/hashtable_class_helper.pxi\u001b[0m in \u001b[0;36mpandas._libs.hashtable.PyObjectHashTable.get_item\u001b[0;34m()\u001b[0m\n",
      "\u001b[0;32mpandas/_libs/hashtable_class_helper.pxi\u001b[0m in \u001b[0;36mpandas._libs.hashtable.PyObjectHashTable.get_item\u001b[0;34m()\u001b[0m\n",
      "\u001b[0;31mKeyError\u001b[0m: 'x'",
      "\nThe above exception was the direct cause of the following exception:\n",
      "\u001b[0;31mKeyError\u001b[0m                                  Traceback (most recent call last)",
      "\u001b[0;32m<ipython-input-30-68df02f5da73>\u001b[0m in \u001b[0;36m<module>\u001b[0;34m\u001b[0m\n\u001b[0;32m----> 1\u001b[0;31m \u001b[0mplt\u001b[0m\u001b[0;34m.\u001b[0m\u001b[0mscatter\u001b[0m\u001b[0;34m(\u001b[0m\u001b[0mdf\u001b[0m\u001b[0;34m[\u001b[0m\u001b[0;34m'x'\u001b[0m\u001b[0;34m]\u001b[0m\u001b[0;34m,\u001b[0m \u001b[0mdf\u001b[0m\u001b[0;34m[\u001b[0m\u001b[0;34m'y'\u001b[0m\u001b[0;34m]\u001b[0m\u001b[0;34m,\u001b[0m \u001b[0mcolor\u001b[0m\u001b[0;34m=\u001b[0m\u001b[0;34m'green'\u001b[0m\u001b[0;34m,\u001b[0m \u001b[0ms\u001b[0m\u001b[0;34m=\u001b[0m\u001b[0;36m50\u001b[0m\u001b[0;34m,\u001b[0m \u001b[0mmarker\u001b[0m\u001b[0;34m=\u001b[0m\u001b[0;34m'.'\u001b[0m\u001b[0;34m)\u001b[0m\u001b[0;34m;\u001b[0m\u001b[0;34m\u001b[0m\u001b[0;34m\u001b[0m\u001b[0m\n\u001b[0m",
      "\u001b[0;32m~/opt/anaconda3/envs/learn-env/lib/python3.8/site-packages/pandas/core/frame.py\u001b[0m in \u001b[0;36m__getitem__\u001b[0;34m(self, key)\u001b[0m\n\u001b[1;32m   2900\u001b[0m             \u001b[0;32mif\u001b[0m \u001b[0mself\u001b[0m\u001b[0;34m.\u001b[0m\u001b[0mcolumns\u001b[0m\u001b[0;34m.\u001b[0m\u001b[0mnlevels\u001b[0m \u001b[0;34m>\u001b[0m \u001b[0;36m1\u001b[0m\u001b[0;34m:\u001b[0m\u001b[0;34m\u001b[0m\u001b[0;34m\u001b[0m\u001b[0m\n\u001b[1;32m   2901\u001b[0m                 \u001b[0;32mreturn\u001b[0m \u001b[0mself\u001b[0m\u001b[0;34m.\u001b[0m\u001b[0m_getitem_multilevel\u001b[0m\u001b[0;34m(\u001b[0m\u001b[0mkey\u001b[0m\u001b[0;34m)\u001b[0m\u001b[0;34m\u001b[0m\u001b[0;34m\u001b[0m\u001b[0m\n\u001b[0;32m-> 2902\u001b[0;31m             \u001b[0mindexer\u001b[0m \u001b[0;34m=\u001b[0m \u001b[0mself\u001b[0m\u001b[0;34m.\u001b[0m\u001b[0mcolumns\u001b[0m\u001b[0;34m.\u001b[0m\u001b[0mget_loc\u001b[0m\u001b[0;34m(\u001b[0m\u001b[0mkey\u001b[0m\u001b[0;34m)\u001b[0m\u001b[0;34m\u001b[0m\u001b[0;34m\u001b[0m\u001b[0m\n\u001b[0m\u001b[1;32m   2903\u001b[0m             \u001b[0;32mif\u001b[0m \u001b[0mis_integer\u001b[0m\u001b[0;34m(\u001b[0m\u001b[0mindexer\u001b[0m\u001b[0;34m)\u001b[0m\u001b[0;34m:\u001b[0m\u001b[0;34m\u001b[0m\u001b[0;34m\u001b[0m\u001b[0m\n\u001b[1;32m   2904\u001b[0m                 \u001b[0mindexer\u001b[0m \u001b[0;34m=\u001b[0m \u001b[0;34m[\u001b[0m\u001b[0mindexer\u001b[0m\u001b[0;34m]\u001b[0m\u001b[0;34m\u001b[0m\u001b[0;34m\u001b[0m\u001b[0m\n",
      "\u001b[0;32m~/opt/anaconda3/envs/learn-env/lib/python3.8/site-packages/pandas/core/indexes/base.py\u001b[0m in \u001b[0;36mget_loc\u001b[0;34m(self, key, method, tolerance)\u001b[0m\n\u001b[1;32m   2895\u001b[0m                 \u001b[0;32mreturn\u001b[0m \u001b[0mself\u001b[0m\u001b[0;34m.\u001b[0m\u001b[0m_engine\u001b[0m\u001b[0;34m.\u001b[0m\u001b[0mget_loc\u001b[0m\u001b[0;34m(\u001b[0m\u001b[0mcasted_key\u001b[0m\u001b[0;34m)\u001b[0m\u001b[0;34m\u001b[0m\u001b[0;34m\u001b[0m\u001b[0m\n\u001b[1;32m   2896\u001b[0m             \u001b[0;32mexcept\u001b[0m \u001b[0mKeyError\u001b[0m \u001b[0;32mas\u001b[0m \u001b[0merr\u001b[0m\u001b[0;34m:\u001b[0m\u001b[0;34m\u001b[0m\u001b[0;34m\u001b[0m\u001b[0m\n\u001b[0;32m-> 2897\u001b[0;31m                 \u001b[0;32mraise\u001b[0m \u001b[0mKeyError\u001b[0m\u001b[0;34m(\u001b[0m\u001b[0mkey\u001b[0m\u001b[0;34m)\u001b[0m \u001b[0;32mfrom\u001b[0m \u001b[0merr\u001b[0m\u001b[0;34m\u001b[0m\u001b[0;34m\u001b[0m\u001b[0m\n\u001b[0m\u001b[1;32m   2898\u001b[0m \u001b[0;34m\u001b[0m\u001b[0m\n\u001b[1;32m   2899\u001b[0m         \u001b[0;32mif\u001b[0m \u001b[0mtolerance\u001b[0m \u001b[0;32mis\u001b[0m \u001b[0;32mnot\u001b[0m \u001b[0;32mNone\u001b[0m\u001b[0;34m:\u001b[0m\u001b[0;34m\u001b[0m\u001b[0;34m\u001b[0m\u001b[0m\n",
      "\u001b[0;31mKeyError\u001b[0m: 'x'"
     ]
    }
   ],
   "source": [
    "# Plot after turning things to non categorical\n",
    "#plt.scatter(df['x'], df['y'], color='green', s=50, marker='.');"
   ]
  },
  {
   "cell_type": "code",
   "execution_count": 1,
   "metadata": {},
   "outputs": [
    {
     "data": {
      "text/plain": [
       "\"You'll start modeling b\\ny choosing the feature that is most correlated with our target, \\nand build and evaluate a linear regression model with just that feature.\""
      ]
     },
     "execution_count": 1,
     "metadata": {},
     "output_type": "execute_result"
    }
   ],
   "source": [
    "\"\"\"You'll start modeling b\n",
    "y choosing the feature that is most correlated with our target, \n",
    "and build and evaluate a linear regression model with just that feature.\"\"\""
   ]
  },
  {
   "cell_type": "code",
   "execution_count": 115,
   "metadata": {},
   "outputs": [],
   "source": [
    "#Correlates numerical data, Year built and zip code count as categorical\n",
    "import seaborn as sns\n",
    "import numpy as np\n",
    "\n",
    "corr_data = pd.concat([y_train, X_train], axis=1)\n",
    "corr = corr_data.corr()"
   ]
  },
  {
   "cell_type": "code",
   "execution_count": 27,
   "metadata": {},
   "outputs": [
    {
     "data": {
      "image/png": "[encoded data removed]",
      "text/plain": [
       "<Figure size 720x720 with 2 Axes>"
      ]
     },
     "metadata": {
      "needs_background": "light"
     },
     "output_type": "display_data"
    }
   ],
   "source": [
    "\n",
    "# Set up figure and axes\n",
    "fig, ax = plt.subplots(figsize=(10, 10))\n",
    "\n",
    "# Plot a heatmap of the correlation matrix, with both\n",
    "# numbers and colors indicating the correlations\n",
    "sns.heatmap(\n",
    "    # Specifies the data to be plotted\n",
    "    data=corr,\n",
    "    # The mask means we only show half the values,\n",
    "    # instead of showing duplicates. It's optional.\n",
    "    #mask=np.triu(np.ones_like(corr, dtype=bool)),\n",
    "    # Specifies that we should use the existing axes\n",
    "    ax=ax,\n",
    "    #Color of the heatmap\n",
    "    cmap=\"Blues\",\n",
    "    # Specifies that we want labels, not just colors\n",
    "    annot=True,\n",
    "    # Customizes colorbar appearance\n",
    "    #cbar_kws={\"label\": \"Correlation\", \"orientation\": \"horizontal\", \"pad\": .2, \"extend\": \"both\"}\n",
    ")\n",
    "\n",
    "# Customize the plot appearance\n",
    "ax.set_title(\"Heatmap of Correlation Between Attributes (Including Target)\");"
   ]
  },
  {
   "cell_type": "code",
   "execution_count": 116,
   "metadata": {},
   "outputs": [],
   "source": [
    "#Strongest numerical feature from the heatmap\n",
    "\n",
    "most_correlated_feature = \"sqft_living\""
   ]
  },
  {
   "cell_type": "code",
   "execution_count": 117,
   "metadata": {},
   "outputs": [
    {
     "data": {
      "image/png": "[encoded data removed]",
      "text/plain": [
       "<Figure size 432x288 with 1 Axes>"
      ]
     },
     "metadata": {
      "needs_background": "light"
     },
     "output_type": "display_data"
    }
   ],
   "source": [
    "#Plot a scatter plot \"Most Correlated Feature vs. Home Value\"\n",
    "fig, ax = plt.subplots()\n",
    "\n",
    "ax.scatter(X_train[most_correlated_feature], y_train, alpha=0.5)\n",
    "ax.set_xlabel(most_correlated_feature)\n",
    "ax.set_ylabel(\"Home Value\")\n",
    "ax.set_title(\"Most Correlated Feature vs. Home Value\");"
   ]
  },
  {
   "cell_type": "code",
   "execution_count": 236,
   "metadata": {},
   "outputs": [],
   "source": [
    "kc_df = kc_df.drop(\"bathrooms\", axis = 1)\n"
   ]
  },
  {
   "cell_type": "code",
   "execution_count": 118,
   "metadata": {},
   "outputs": [],
   "source": [
    "#Reshape training data\n",
    "X_train[most_correlated_feature]\n",
    "X_array = np.array(X_train[most_correlated_feature])\n",
    "newarr = X_array.reshape(-1,1)"
   ]
  },
  {
   "cell_type": "code",
   "execution_count": 119,
   "metadata": {},
   "outputs": [],
   "source": [
    "#Reshape training data\n",
    "X_test[most_correlated_feature]\n",
    "X_array_test = np.array(X_test[most_correlated_feature])\n",
    "newarr_test = X_array_test.reshape(-1,1)"
   ]
  },
  {
   "cell_type": "code",
   "execution_count": 120,
   "metadata": {},
   "outputs": [],
   "source": [
    "# Log Transformation\n",
    "from sklearn.preprocessing import FunctionTransformer\n",
    "\n",
    "# Instantiate transformers\n",
    "log_transformer = FunctionTransformer(np.log, validate=True)\n",
    "\n",
    "# Fit transformers\n",
    "log_transformer.fit(newarr)\n",
    "\n",
    "# Transform training data\n",
    "X_train_log = pd.DataFrame(log_transformer.transform(newarr),columns= [\"sqft_living\"], index=X_train.index)\n",
    "\n",
    "# Transform testing data\n",
    "X_test_log = pd.DataFrame(log_transformer.transform(newarr_test),columns= [\"sqft_living\"], index=X_test.index)"
   ]
  },
  {
   "cell_type": "code",
   "execution_count": 121,
   "metadata": {},
   "outputs": [],
   "source": [
    "from sklearn.linear_model import LinearRegression\n",
    "linreg = LinearRegression()"
   ]
  },
  {
   "cell_type": "code",
   "execution_count": 86,
   "metadata": {},
   "outputs": [
    {
     "data": {
      "text/html": [
       "<div>\n",
       "<style scoped>\n",
       "    .dataframe tbody tr th:only-of-type {\n",
       "        vertical-align: middle;\n",
       "    }\n",
       "\n",
       "    .dataframe tbody tr th {\n",
       "        vertical-align: top;\n",
       "    }\n",
       "\n",
       "    .dataframe thead th {\n",
       "        text-align: right;\n",
       "    }\n",
       "</style>\n",
       "<table border=\"1\" class=\"dataframe\">\n",
       "  <thead>\n",
       "    <tr style=\"text-align: right;\">\n",
       "      <th></th>\n",
       "      <th>sqft_living</th>\n",
       "    </tr>\n",
       "    <tr>\n",
       "      <th>id</th>\n",
       "      <th></th>\n",
       "    </tr>\n",
       "  </thead>\n",
       "  <tbody>\n",
       "    <tr>\n",
       "      <th>8682300890</th>\n",
       "      <td>7.774856</td>\n",
       "    </tr>\n",
       "    <tr>\n",
       "      <th>8073000550</th>\n",
       "      <td>8.067776</td>\n",
       "    </tr>\n",
       "    <tr>\n",
       "      <th>7212680850</th>\n",
       "      <td>7.455877</td>\n",
       "    </tr>\n",
       "    <tr>\n",
       "      <th>8880600070</th>\n",
       "      <td>7.533694</td>\n",
       "    </tr>\n",
       "    <tr>\n",
       "      <th>7226500100</th>\n",
       "      <td>7.955074</td>\n",
       "    </tr>\n",
       "    <tr>\n",
       "      <th>...</th>\n",
       "      <td>...</td>\n",
       "    </tr>\n",
       "    <tr>\n",
       "      <th>7853230570</th>\n",
       "      <td>7.709757</td>\n",
       "    </tr>\n",
       "    <tr>\n",
       "      <th>4140940150</th>\n",
       "      <td>7.926603</td>\n",
       "    </tr>\n",
       "    <tr>\n",
       "      <th>8658300480</th>\n",
       "      <td>7.333023</td>\n",
       "    </tr>\n",
       "    <tr>\n",
       "      <th>1723049033</th>\n",
       "      <td>5.940171</td>\n",
       "    </tr>\n",
       "    <tr>\n",
       "      <th>8567450080</th>\n",
       "      <td>7.921173</td>\n",
       "    </tr>\n",
       "  </tbody>\n",
       "</table>\n",
       "<p>15117 rows × 1 columns</p>\n",
       "</div>"
      ],
      "text/plain": [
       "            sqft_living\n",
       "id                     \n",
       "8682300890     7.774856\n",
       "8073000550     8.067776\n",
       "7212680850     7.455877\n",
       "8880600070     7.533694\n",
       "7226500100     7.955074\n",
       "...                 ...\n",
       "7853230570     7.709757\n",
       "4140940150     7.926603\n",
       "8658300480     7.333023\n",
       "1723049033     5.940171\n",
       "8567450080     7.921173\n",
       "\n",
       "[15117 rows x 1 columns]"
      ]
     },
     "execution_count": 86,
     "metadata": {},
     "output_type": "execute_result"
    }
   ],
   "source": [
    "X_train_log"
   ]
  },
  {
   "cell_type": "code",
   "execution_count": 123,
   "metadata": {},
   "outputs": [
    {
     "data": {
      "text/plain": [
       "LinearRegression()"
      ]
     },
     "execution_count": 123,
     "metadata": {},
     "output_type": "execute_result"
    }
   ],
   "source": [
    "linreg.fit(X_train_log, y_train)\n",
    "LinearRegression()"
   ]
  },
  {
   "cell_type": "code",
   "execution_count": 124,
   "metadata": {},
   "outputs": [],
   "source": [
    "y_hat_train = linreg.predict(X_train_log)\n",
    "y_hat_test = linreg.predict(X_test_log)"
   ]
  },
  {
   "cell_type": "code",
   "execution_count": 125,
   "metadata": {},
   "outputs": [],
   "source": [
    "from sklearn.metrics import mean_squared_error"
   ]
  },
  {
   "cell_type": "code",
   "execution_count": 134,
   "metadata": {},
   "outputs": [
    {
     "name": "stdout",
     "output_type": "stream",
     "text": [
      "Train Mean Squared Error: 84776097457.16399\n",
      "Test Mean Squared Error:  83637342080.55116\n",
      "Train Model Score:  0.3764278159506643\n",
      "Test Model Score:  0.369243516519262\n"
     ]
    }
   ],
   "source": [
    "train_mse = mean_squared_error(y_train, y_hat_train)\n",
    "test_mse = mean_squared_error(y_test, y_hat_test)\n",
    "Model_train_score = linreg.score(X_train_log,y_train)\n",
    "Model_score = linreg.score(X_test_log,y_test)\n",
    "print('Train Mean Squared Error:', train_mse)\n",
    "print('Test Mean Squared Error: ', test_mse)\n",
    "print('Train Model Score: ', Model_train_score)\n",
    "print('Test Model Score: ', Model_score)\n"
   ]
  },
  {
   "cell_type": "code",
   "execution_count": 128,
   "metadata": {},
   "outputs": [],
   "source": [
    "#Do I need to get teh MAE and RMSE as well? Reference Template solutions GP if so\n"
   ]
  },
  {
   "cell_type": "markdown",
   "metadata": {},
   "source": [
    "Test Mean Squared Error is better than the Training Error. The base model score R2 is only .36. This base mode isn't strong enough to support predicting prices.  There may be better features or a combination of a few that hopefully will increade the score."
   ]
  },
  {
   "cell_type": "markdown",
   "metadata": {},
   "source": [
    "# Second Model with cat and continuous features"
   ]
  },
  {
   "cell_type": "code",
   "execution_count": 160,
   "metadata": {},
   "outputs": [
    {
     "name": "stdout",
     "output_type": "stream",
     "text": [
      "NO     13364\n",
      "YES      103\n",
      "Name: waterfront, dtype: int64\n",
      "\n",
      "Average      9834\n",
      "Good         3943\n",
      "Very Good    1200\n",
      "Fair          123\n",
      "Poor           17\n",
      "Name: condition, dtype: int64\n",
      "\n",
      "7 Average        6265\n",
      "8 Good           4293\n",
      "9 Better         1803\n",
      "6 Low Average    1405\n",
      "10 Very Good      806\n",
      "11 Excellent      280\n",
      "5 Fair            177\n",
      "12 Luxury          64\n",
      "4 Low              16\n",
      "13 Mansion          7\n",
      "3 Poor              1\n",
      "Name: grade, dtype: int64\n"
     ]
    }
   ],
   "source": [
    "#Convert categorical features into numbers - some are numbers with categories as well\n",
    "# Run this cell without changes\n",
    "\n",
    "print(X_train[\"waterfront\"].value_counts())\n",
    "print()\n",
    "print(X_train[\"condition\"].value_counts())\n",
    "print()\n",
    "print(X_train[\"grade\"].value_counts())"
   ]
  },
  {
   "cell_type": "code",
   "execution_count": null,
   "metadata": {},
   "outputs": [],
   "source": [
    "#Model the features \n",
    "#https://github.com/Dmvinedata/linear_regression_guided_practice/blob/master/2022-08-15/.ipynb_checkpoints/linear_regression_advanced-checkpoint.ipynb"
   ]
  },
  {
   "cell_type": "code",
   "execution_count": 146,
   "metadata": {
    "collapsed": true
   },
   "outputs": [
    {
     "name": "stdout",
     "output_type": "stream",
     "text": [
      "Bedrooms\n"
     ]
    },
    {
     "data": {
      "image/png": "[encoded data removed]",
      "text/plain": [
       "<Figure size 432x288 with 1 Axes>"
      ]
     },
     "metadata": {
      "needs_background": "light"
     },
     "output_type": "display_data"
    },
    {
     "name": "stdout",
     "output_type": "stream",
     "text": [
      "Bathrooms\n"
     ]
    },
    {
     "data": {
      "image/png": "[encoded data removed]",
      "text/plain": [
       "<Figure size 432x288 with 1 Axes>"
      ]
     },
     "metadata": {
      "needs_background": "light"
     },
     "output_type": "display_data"
    },
    {
     "name": "stdout",
     "output_type": "stream",
     "text": [
      "Sqft_Living\n"
     ]
    },
    {
     "data": {
      "image/png": "[encoded data removed]",
      "text/plain": [
       "<Figure size 432x288 with 1 Axes>"
      ]
     },
     "metadata": {
      "needs_background": "light"
     },
     "output_type": "display_data"
    },
    {
     "name": "stdout",
     "output_type": "stream",
     "text": [
      "Sqft_Lot\n"
     ]
    },
    {
     "data": {
      "image/png": "[encoded data removed]",
      "text/plain": [
       "<Figure size 432x288 with 1 Axes>"
      ]
     },
     "metadata": {
      "needs_background": "light"
     },
     "output_type": "display_data"
    },
    {
     "name": "stdout",
     "output_type": "stream",
     "text": [
      "Floors\n"
     ]
    },
    {
     "data": {
      "image/png": "[encoded data removed]",
      "text/plain": [
       "<Figure size 432x288 with 1 Axes>"
      ]
     },
     "metadata": {
      "needs_background": "light"
     },
     "output_type": "display_data"
    },
    {
     "name": "stdout",
     "output_type": "stream",
     "text": [
      "Condition\n"
     ]
    },
    {
     "data": {
      "image/png": "[encoded data removed]",
      "text/plain": [
       "<Figure size 432x288 with 1 Axes>"
      ]
     },
     "metadata": {
      "needs_background": "light"
     },
     "output_type": "display_data"
    },
    {
     "name": "stdout",
     "output_type": "stream",
     "text": [
      "Grade\n"
     ]
    },
    {
     "data": {
      "image/png": "[encoded data removed]",
      "text/plain": [
       "<Figure size 432x288 with 1 Axes>"
      ]
     },
     "metadata": {
      "needs_background": "light"
     },
     "output_type": "display_data"
    },
    {
     "name": "stdout",
     "output_type": "stream",
     "text": [
      "Yr_Built\n"
     ]
    },
    {
     "data": {
      "image/png": "[encoded data removed]",
      "text/plain": [
       "<Figure size 432x288 with 1 Axes>"
      ]
     },
     "metadata": {
      "needs_background": "light"
     },
     "output_type": "display_data"
    },
    {
     "name": "stdout",
     "output_type": "stream",
     "text": [
      "Zipcode\n"
     ]
    },
    {
     "data": {
      "image/png": "[encoded data removed]",
      "text/plain": [
       "<Figure size 432x288 with 1 Axes>"
      ]
     },
     "metadata": {
      "needs_background": "light"
     },
     "output_type": "display_data"
    }
   ],
   "source": [
    "X_temp = X_train.drop (\"waterfront\", axis = 1 )\n",
    "X_temp\n",
    "for c in X_temp.columns:\n",
    "    print(c.title())\n",
    "    plt.scatter(X_temp[c], y_train)\n",
    "    plt.show()"
   ]
  },
  {
   "cell_type": "code",
   "execution_count": 152,
   "metadata": {
    "collapsed": true
   },
   "outputs": [
    {
     "data": {
      "image/png": "[encoded data removed]",
      "text/plain": [
       "<Figure size 1152x1152 with 9 Axes>"
      ]
     },
     "metadata": {
      "needs_background": "light"
     },
     "output_type": "display_data"
    }
   ],
   "source": [
    "X_train[continuous].hist(figsize  = [16, 16]);"
   ]
  },
  {
   "cell_type": "code",
   "execution_count": 314,
   "metadata": {},
   "outputs": [],
   "source": [
    "#  import OneHotEncoder from sklearn.preprocessing\n",
    "from sklearn.preprocessing import OneHotEncoder, Normalizer\n",
    "\n",
    "continuous = ['bedrooms', 'sqft_living','sqft_lot','floors',\"yr_built\", \"zipcode\"]\n",
    "categoricals = ['waterfront', 'condition', 'grade']\n",
    "\n",
    "X = kc_df.drop(\"price\", axis=1)\n",
    "y = kc_df[\"price\"]\n",
    "\n",
    "# Create new split\n",
    "X_train_sec, X_test_sec, y_train_sec, y_test_sec = train_test_split(X, y, test_size=.3, random_state=42)"
   ]
  },
  {
   "cell_type": "code",
   "execution_count": 315,
   "metadata": {},
   "outputs": [
    {
     "data": {
      "text/plain": [
       "['wa_Unk',\n",
       " 'wa_NO',\n",
       " 'wa_YES',\n",
       " 'co_Average',\n",
       " 'co_Very Good',\n",
       " 'co_Good',\n",
       " 'co_Poor',\n",
       " 'co_Fair',\n",
       " 'gr_7 Average',\n",
       " 'gr_6 Low Average',\n",
       " 'gr_8 Good',\n",
       " 'gr_11 Excellent',\n",
       " 'gr_9 Better',\n",
       " 'gr_5 Fair',\n",
       " 'gr_10 Very Good',\n",
       " 'gr_12 Luxury',\n",
       " 'gr_4 Low',\n",
       " 'gr_3 Poor',\n",
       " 'gr_13 Mansion']"
      ]
     },
     "execution_count": 315,
     "metadata": {},
     "output_type": "execute_result"
    }
   ],
   "source": [
    "#Setting column names for one hot encoded variables - Ref https://www.codementor.io/@abdelfettahbesbes/one-hot-encoding-in-data-science-1pe0lftu21\n",
    "categoricals\n",
    "cat_cols_encoded = []\n",
    "for col in categoricals:\n",
    "    cat_cols_encoded += [f\"{col[0:2]}_{cat}\" for cat in list(X[col].unique())]\n",
    "cat_cols_encoded"
   ]
  },
  {
   "cell_type": "code",
   "execution_count": 281,
   "metadata": {},
   "outputs": [
    {
     "data": {
      "text/plain": [
       "array(['Unk', 'NO', 'YES'], dtype=object)"
      ]
     },
     "execution_count": 281,
     "metadata": {},
     "output_type": "execute_result"
    }
   ],
   "source": [
    "['wa_Unk','co_Average','gr_7 Average']"
   ]
  },
  {
   "cell_type": "code",
   "execution_count": 316,
   "metadata": {},
   "outputs": [],
   "source": [
    "\n",
    "\n",
    "# Instantiate transformers\n",
    "log_transformer = FunctionTransformer(np.log, validate=True)\n",
    "ohe = OneHotEncoder(sparse=False) # did not drop the first one\n",
    "scaler = Normalizer()\n",
    "\n",
    "# Fit and/or transform - Better\n",
    "X_train_log = log_transformer.fit_transform(X_train_sec[continuous])\n",
    "X_train_scale = scaler.fit_transform(X_train_log )\n",
    "X_train_ohe = ohe.fit_transform(X_train_sec[categoricals])\n",
    "\n",
    "\n",
    "\n",
    "\n",
    "#Concatenate transformed data\n",
    "X_train_sec = pd.concat([\n",
    "        pd.DataFrame(X_train_scale, columns= continuous, index=X_train_sec.index),\n",
    "        pd.DataFrame(X_train_ohe, columns = cat_cols_encoded, index=X_train_sec.index)\n",
    "    ], axis=1)\n",
    "\n",
    "    \n",
    "# Transform and concatenate test data\n",
    "log_X_test = log_transformer.transform(X_test_sec[continuous])\n",
    "normalized_X_test = scaler.transform (log_X_test)\n",
    "\n",
    "#Remember there might be data leackage with using the same columsn for test\n",
    "X_test_sec = pd.concat([\n",
    "    pd.DataFrame(normalized_X_test,columns= continuous, index=X_test_sec.index),\n",
    "    pd.DataFrame(ohe.transform(X_test_sec[categoricals]),columns = cat_cols_encoded,index=X_test_sec.index)\n",
    "], axis=1)"
   ]
  },
  {
   "cell_type": "code",
   "execution_count": 317,
   "metadata": {},
   "outputs": [],
   "source": [
    "#Drop the first col of each ohe CAT \n",
    "X_train_sec= X_train_sec.drop(['wa_Unk','co_Average','gr_7 Average'], axis=1)\n",
    "X_test_sec= X_test_sec.drop(['wa_Unk','co_Average','gr_7 Average'], axis=1)"
   ]
  },
  {
   "cell_type": "code",
   "execution_count": 318,
   "metadata": {},
   "outputs": [],
   "source": [
    "linreg2 = LinearRegression()"
   ]
  },
  {
   "cell_type": "code",
   "execution_count": 319,
   "metadata": {},
   "outputs": [
    {
     "data": {
      "text/plain": [
       "LinearRegression()"
      ]
     },
     "execution_count": 319,
     "metadata": {},
     "output_type": "execute_result"
    }
   ],
   "source": [
    "linreg2.fit(X_train_sec, y_train_sec)"
   ]
  },
  {
   "cell_type": "code",
   "execution_count": 320,
   "metadata": {},
   "outputs": [],
   "source": [
    "y_hat_train = linreg2.predict(X_train_sec)\n",
    "y_hat_test = linreg2.predict(X_test_sec)"
   ]
  },
  {
   "cell_type": "code",
   "execution_count": 321,
   "metadata": {},
   "outputs": [
    {
     "name": "stdout",
     "output_type": "stream",
     "text": [
      "Train Mean Squared Error: 46830288899.16625\n",
      "Test Mean Squared Error:  45818657876.480125\n",
      "Train Model Score:  0.6512744929271215\n",
      "Test Model Score:  0.6644741730294157\n"
     ]
    }
   ],
   "source": [
    "train_mse = mean_squared_error(y_train_sec, y_hat_train)\n",
    "test_mse = mean_squared_error(y_test_sec, y_hat_test)\n",
    "Model_train_score = linreg2.score(X_train_sec,y_train_sec)\n",
    "Model_score = linreg2.score(X_test_sec, y_test_sec)\n",
    "print('Train Mean Squared Error:', train_mse)\n",
    "print('Test Mean Squared Error: ', test_mse)\n",
    "print('Train Model Score: ', Model_train_score)\n",
    "print('Test Model Score: ', Model_score)\n",
    "\n"
   ]
  },
  {
   "cell_type": "markdown",
   "metadata": {},
   "source": [
    "With the results of the second model, it seems that the model is overfit for the training model.\n",
    "The MSE an R2 are higher now that we used more of the data and transformed the categories with OHE."
   ]
  },
  {
   "cell_type": "markdown",
   "metadata": {},
   "source": [
    "# Investigating Multicollinearity"
   ]
  },
  {
   "cell_type": "code",
   "execution_count": 322,
   "metadata": {},
   "outputs": [
    {
     "data": {
      "text/html": [
       "<table class=\"simpletable\">\n",
       "<caption>OLS Regression Results</caption>\n",
       "<tr>\n",
       "  <th>Dep. Variable:</th>          <td>price</td>      <th>  R-squared:         </th>  <td>   0.651</td>  \n",
       "</tr>\n",
       "<tr>\n",
       "  <th>Model:</th>                   <td>OLS</td>       <th>  Adj. R-squared:    </th>  <td>   0.651</td>  \n",
       "</tr>\n",
       "<tr>\n",
       "  <th>Method:</th>             <td>Least Squares</td>  <th>  F-statistic:       </th>  <td>   1281.</td>  \n",
       "</tr>\n",
       "<tr>\n",
       "  <th>Date:</th>             <td>Mon, 19 Dec 2022</td> <th>  Prob (F-statistic):</th>   <td>  0.00</td>   \n",
       "</tr>\n",
       "<tr>\n",
       "  <th>Time:</th>                 <td>00:34:56</td>     <th>  Log-Likelihood:    </th> <td>-2.0711e+05</td>\n",
       "</tr>\n",
       "<tr>\n",
       "  <th>No. Observations:</th>      <td> 15113</td>      <th>  AIC:               </th>  <td>4.143e+05</td> \n",
       "</tr>\n",
       "<tr>\n",
       "  <th>Df Residuals:</th>          <td> 15090</td>      <th>  BIC:               </th>  <td>4.144e+05</td> \n",
       "</tr>\n",
       "<tr>\n",
       "  <th>Df Model:</th>              <td>    22</td>      <th>                     </th>      <td> </td>     \n",
       "</tr>\n",
       "<tr>\n",
       "  <th>Covariance Type:</th>      <td>nonrobust</td>    <th>                     </th>      <td> </td>     \n",
       "</tr>\n",
       "</table>\n",
       "<table class=\"simpletable\">\n",
       "<tr>\n",
       "          <td></td>            <th>coef</th>     <th>std err</th>      <th>t</th>      <th>P>|t|</th>  <th>[0.025</th>    <th>0.975]</th>  \n",
       "</tr>\n",
       "<tr>\n",
       "  <th>const</th>            <td> 1.845e+07</td> <td>  1.1e+06</td> <td>   16.832</td> <td> 0.000</td> <td> 1.63e+07</td> <td> 2.06e+07</td>\n",
       "</tr>\n",
       "<tr>\n",
       "  <th>bedrooms</th>         <td>-1.673e+06</td> <td>  1.6e+05</td> <td>  -10.437</td> <td> 0.000</td> <td>-1.99e+06</td> <td>-1.36e+06</td>\n",
       "</tr>\n",
       "<tr>\n",
       "  <th>sqft_living</th>      <td>-1.345e+06</td> <td> 4.54e+05</td> <td>   -2.962</td> <td> 0.003</td> <td>-2.24e+06</td> <td>-4.55e+05</td>\n",
       "</tr>\n",
       "<tr>\n",
       "  <th>sqft_lot</th>         <td>-9.676e+06</td> <td> 5.65e+05</td> <td>  -17.117</td> <td> 0.000</td> <td>-1.08e+07</td> <td>-8.57e+06</td>\n",
       "</tr>\n",
       "<tr>\n",
       "  <th>floors</th>           <td>-6.834e+05</td> <td> 1.37e+05</td> <td>   -5.003</td> <td> 0.000</td> <td>-9.51e+05</td> <td>-4.16e+05</td>\n",
       "</tr>\n",
       "<tr>\n",
       "  <th>yr_built</th>         <td>-1.176e+08</td> <td> 2.74e+06</td> <td>  -43.010</td> <td> 0.000</td> <td>-1.23e+08</td> <td>-1.12e+08</td>\n",
       "</tr>\n",
       "<tr>\n",
       "  <th>zipcode</th>          <td> 5.864e+07</td> <td> 1.85e+06</td> <td>   31.692</td> <td> 0.000</td> <td>  5.5e+07</td> <td> 6.23e+07</td>\n",
       "</tr>\n",
       "<tr>\n",
       "  <th>wa_NO</th>            <td> -622.4567</td> <td> 5637.369</td> <td>   -0.110</td> <td> 0.912</td> <td>-1.17e+04</td> <td> 1.04e+04</td>\n",
       "</tr>\n",
       "<tr>\n",
       "  <th>wa_YES</th>           <td> 7.247e+05</td> <td> 2.23e+04</td> <td>   32.480</td> <td> 0.000</td> <td> 6.81e+05</td> <td> 7.68e+05</td>\n",
       "</tr>\n",
       "<tr>\n",
       "  <th>co_Very Good</th>     <td> -2.14e+04</td> <td> 1.98e+04</td> <td>   -1.081</td> <td> 0.280</td> <td>-6.02e+04</td> <td> 1.74e+04</td>\n",
       "</tr>\n",
       "<tr>\n",
       "  <th>co_Good</th>          <td> 2.563e+04</td> <td> 4402.518</td> <td>    5.822</td> <td> 0.000</td> <td>  1.7e+04</td> <td> 3.43e+04</td>\n",
       "</tr>\n",
       "<tr>\n",
       "  <th>co_Poor</th>          <td>-7.325e+04</td> <td> 6.08e+04</td> <td>   -1.205</td> <td> 0.228</td> <td>-1.92e+05</td> <td> 4.59e+04</td>\n",
       "</tr>\n",
       "<tr>\n",
       "  <th>co_Fair</th>          <td> 6.916e+04</td> <td> 7096.541</td> <td>    9.745</td> <td> 0.000</td> <td> 5.52e+04</td> <td> 8.31e+04</td>\n",
       "</tr>\n",
       "<tr>\n",
       "  <th>gr_6 Low Average</th> <td> 3.206e+05</td> <td>  1.5e+04</td> <td>   21.441</td> <td> 0.000</td> <td> 2.91e+05</td> <td>  3.5e+05</td>\n",
       "</tr>\n",
       "<tr>\n",
       "  <th>gr_8 Good</th>        <td>  8.57e+05</td> <td> 2.97e+04</td> <td>   28.883</td> <td> 0.000</td> <td> 7.99e+05</td> <td> 9.15e+05</td>\n",
       "</tr>\n",
       "<tr>\n",
       "  <th>gr_11 Excellent</th>  <td> 2.379e+06</td> <td> 6.32e+04</td> <td>   37.632</td> <td> 0.000</td> <td> 2.25e+06</td> <td>  2.5e+06</td>\n",
       "</tr>\n",
       "<tr>\n",
       "  <th>gr_9 Better</th>      <td> -5.71e+05</td> <td> 2.17e+05</td> <td>   -2.629</td> <td> 0.009</td> <td>-9.97e+05</td> <td>-1.45e+05</td>\n",
       "</tr>\n",
       "<tr>\n",
       "  <th>gr_5 Fair</th>        <td>-5.469e+05</td> <td> 4.94e+04</td> <td>  -11.075</td> <td> 0.000</td> <td>-6.44e+05</td> <td> -4.5e+05</td>\n",
       "</tr>\n",
       "<tr>\n",
       "  <th>gr_10 Very Good</th>  <td>-6.327e+05</td> <td> 2.07e+04</td> <td>  -30.540</td> <td> 0.000</td> <td>-6.73e+05</td> <td>-5.92e+05</td>\n",
       "</tr>\n",
       "<tr>\n",
       "  <th>gr_12 Luxury</th>     <td>-6.043e+05</td> <td> 1.23e+04</td> <td>  -49.010</td> <td> 0.000</td> <td>-6.28e+05</td> <td> -5.8e+05</td>\n",
       "</tr>\n",
       "<tr>\n",
       "  <th>gr_4 Low</th>         <td>-5.395e+05</td> <td> 9749.332</td> <td>  -55.339</td> <td> 0.000</td> <td>-5.59e+05</td> <td> -5.2e+05</td>\n",
       "</tr>\n",
       "<tr>\n",
       "  <th>gr_3 Poor</th>        <td>-4.354e+05</td> <td> 8965.474</td> <td>  -48.567</td> <td> 0.000</td> <td>-4.53e+05</td> <td>-4.18e+05</td>\n",
       "</tr>\n",
       "<tr>\n",
       "  <th>gr_13 Mansion</th>    <td>-2.407e+05</td> <td> 9257.215</td> <td>  -25.996</td> <td> 0.000</td> <td>-2.59e+05</td> <td>-2.23e+05</td>\n",
       "</tr>\n",
       "</table>\n",
       "<table class=\"simpletable\">\n",
       "<tr>\n",
       "  <th>Omnibus:</th>       <td>9359.598</td> <th>  Durbin-Watson:     </th>  <td>   1.997</td> \n",
       "</tr>\n",
       "<tr>\n",
       "  <th>Prob(Omnibus):</th>  <td> 0.000</td>  <th>  Jarque-Bera (JB):  </th> <td>347379.651</td>\n",
       "</tr>\n",
       "<tr>\n",
       "  <th>Skew:</th>           <td> 2.409</td>  <th>  Prob(JB):          </th>  <td>    0.00</td> \n",
       "</tr>\n",
       "<tr>\n",
       "  <th>Kurtosis:</th>       <td>25.988</td>  <th>  Cond. No.          </th>  <td>2.80e+03</td> \n",
       "</tr>\n",
       "</table><br/><br/>Notes:<br/>[1] Standard Errors assume that the covariance matrix of the errors is correctly specified.<br/>[2] The condition number is large, 2.8e+03. This might indicate that there are<br/>strong multicollinearity or other numerical problems."
      ],
      "text/plain": [
       "<class 'statsmodels.iolib.summary.Summary'>\n",
       "\"\"\"\n",
       "                            OLS Regression Results                            \n",
       "==============================================================================\n",
       "Dep. Variable:                  price   R-squared:                       0.651\n",
       "Model:                            OLS   Adj. R-squared:                  0.651\n",
       "Method:                 Least Squares   F-statistic:                     1281.\n",
       "Date:                Mon, 19 Dec 2022   Prob (F-statistic):               0.00\n",
       "Time:                        00:34:56   Log-Likelihood:            -2.0711e+05\n",
       "No. Observations:               15113   AIC:                         4.143e+05\n",
       "Df Residuals:                   15090   BIC:                         4.144e+05\n",
       "Df Model:                          22                                         \n",
       "Covariance Type:            nonrobust                                         \n",
       "====================================================================================\n",
       "                       coef    std err          t      P>|t|      [0.025      0.975]\n",
       "------------------------------------------------------------------------------------\n",
       "const             1.845e+07    1.1e+06     16.832      0.000    1.63e+07    2.06e+07\n",
       "bedrooms         -1.673e+06    1.6e+05    -10.437      0.000   -1.99e+06   -1.36e+06\n",
       "sqft_living      -1.345e+06   4.54e+05     -2.962      0.003   -2.24e+06   -4.55e+05\n",
       "sqft_lot         -9.676e+06   5.65e+05    -17.117      0.000   -1.08e+07   -8.57e+06\n",
       "floors           -6.834e+05   1.37e+05     -5.003      0.000   -9.51e+05   -4.16e+05\n",
       "yr_built         -1.176e+08   2.74e+06    -43.010      0.000   -1.23e+08   -1.12e+08\n",
       "zipcode           5.864e+07   1.85e+06     31.692      0.000     5.5e+07    6.23e+07\n",
       "wa_NO             -622.4567   5637.369     -0.110      0.912   -1.17e+04    1.04e+04\n",
       "wa_YES            7.247e+05   2.23e+04     32.480      0.000    6.81e+05    7.68e+05\n",
       "co_Very Good      -2.14e+04   1.98e+04     -1.081      0.280   -6.02e+04    1.74e+04\n",
       "co_Good           2.563e+04   4402.518      5.822      0.000     1.7e+04    3.43e+04\n",
       "co_Poor          -7.325e+04   6.08e+04     -1.205      0.228   -1.92e+05    4.59e+04\n",
       "co_Fair           6.916e+04   7096.541      9.745      0.000    5.52e+04    8.31e+04\n",
       "gr_6 Low Average  3.206e+05    1.5e+04     21.441      0.000    2.91e+05     3.5e+05\n",
       "gr_8 Good          8.57e+05   2.97e+04     28.883      0.000    7.99e+05    9.15e+05\n",
       "gr_11 Excellent   2.379e+06   6.32e+04     37.632      0.000    2.25e+06     2.5e+06\n",
       "gr_9 Better       -5.71e+05   2.17e+05     -2.629      0.009   -9.97e+05   -1.45e+05\n",
       "gr_5 Fair        -5.469e+05   4.94e+04    -11.075      0.000   -6.44e+05    -4.5e+05\n",
       "gr_10 Very Good  -6.327e+05   2.07e+04    -30.540      0.000   -6.73e+05   -5.92e+05\n",
       "gr_12 Luxury     -6.043e+05   1.23e+04    -49.010      0.000   -6.28e+05    -5.8e+05\n",
       "gr_4 Low         -5.395e+05   9749.332    -55.339      0.000   -5.59e+05    -5.2e+05\n",
       "gr_3 Poor        -4.354e+05   8965.474    -48.567      0.000   -4.53e+05   -4.18e+05\n",
       "gr_13 Mansion    -2.407e+05   9257.215    -25.996      0.000   -2.59e+05   -2.23e+05\n",
       "==============================================================================\n",
       "Omnibus:                     9359.598   Durbin-Watson:                   1.997\n",
       "Prob(Omnibus):                  0.000   Jarque-Bera (JB):           347379.651\n",
       "Skew:                           2.409   Prob(JB):                         0.00\n",
       "Kurtosis:                      25.988   Cond. No.                     2.80e+03\n",
       "==============================================================================\n",
       "\n",
       "Notes:\n",
       "[1] Standard Errors assume that the covariance matrix of the errors is correctly specified.\n",
       "[2] The condition number is large, 2.8e+03. This might indicate that there are\n",
       "strong multicollinearity or other numerical problems.\n",
       "\"\"\""
      ]
     },
     "execution_count": 322,
     "metadata": {},
     "output_type": "execute_result"
    }
   ],
   "source": [
    "import statsmodels.api as sm\n",
    "\n",
    "sm.OLS(y_train_sec, sm.add_constant(X_train_sec)).fit().summary()"
   ]
  },
  {
   "cell_type": "markdown",
   "metadata": {},
   "source": [
    "Looks like there is a lot of multicolinearity in the model. We will select only a few features"
   ]
  },
  {
   "cell_type": "markdown",
   "metadata": {},
   "source": [
    "# 3rd Model with kfold cross validation"
   ]
  },
  {
   "cell_type": "code",
   "execution_count": null,
   "metadata": {},
   "outputs": [],
   "source": [
    "#2nd iteration of the model with kfold instead of test split\n",
    "from sklearn.feature_selection import RFECV\n",
    "from sklearn.preprocessing import StandardScaler\n"
   ]
  },
  {
   "cell_type": "code",
   "execution_count": null,
   "metadata": {},
   "outputs": [],
   "source": [
    "#Second Model\n",
    "#Fit Linear Reg model using cross validat - linear reg lego mode\n",
    "#Predict with values\n",
    "#wRITE UP INFORMATION and results"
   ]
  },
  {
   "cell_type": "code",
   "execution_count": null,
   "metadata": {},
   "outputs": [],
   "source": [
    "#Do stats model on third model\n",
    "#Pair down best features to use with CI, R2 and P value\n",
    "#Go to the lesson where there was a pair down using RFECV.\n"
   ]
  },
  {
   "cell_type": "code",
   "execution_count": null,
   "metadata": {},
   "outputs": [],
   "source": [
    "#Create a third model with the best features to use\n",
    "#After the best R2 reached plot somehow\n",
    "#Report error\n",
    "\n"
   ]
  },
  {
   "cell_type": "code",
   "execution_count": null,
   "metadata": {},
   "outputs": [],
   "source": [
    "#Final Model "
   ]
  },
  {
   "cell_type": "code",
   "execution_count": null,
   "metadata": {},
   "outputs": [],
   "source": [
    "#Interpret Model  - msE LOOK AT linear regression lab to see BUSINESS interpretation"
   ]
  },
  {
   "cell_type": "code",
   "execution_count": null,
   "metadata": {},
   "outputs": [],
   "source": [
    "#Transform data set by changing the condition or grade and try to predict on final model"
   ]
  }
 ],
 "metadata": {
  "kernelspec": {
   "display_name": "Python 3",
   "language": "python",
   "name": "python3"
  },
  "language_info": {
   "codemirror_mode": {
    "name": "ipython",
    "version": 3
   },
   "file_extension": ".py",
   "mimetype": "text/x-python",
   "name": "python",
   "nbconvert_exporter": "python",
   "pygments_lexer": "ipython3",
   "version": "3.8.5"
  }
 },
 "nbformat": 4,
 "nbformat_minor": 2
}
